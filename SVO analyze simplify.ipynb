{
 "cells": [
  {
   "cell_type": "code",
   "execution_count": 1,
   "metadata": {},
   "outputs": [],
   "source": [
    "import pandas as pd\n",
    "from ddparser import DDParser\n",
    "from collections import Counter\n"
   ]
  },
  {
   "cell_type": "code",
   "execution_count": 2,
   "metadata": {},
   "outputs": [
    {
     "name": "stderr",
     "output_type": "stream",
     "text": [
      "2020-12-28 15:09:23,249-INFO: loading the fields.\n"
     ]
    }
   ],
   "source": [
    "# baido module\n",
    "ddp = DDParser(use_pos=True)"
   ]
  },
  {
   "cell_type": "code",
   "execution_count": 7,
   "metadata": {},
   "outputs": [],
   "source": [
    "#####testing area\n",
    "text=\"他撥弄她的頭髮，時而捲動，時而打成一個結。\"\n",
    "test=ddp.parse(text)[0]\n",
    "syntax_dict=dict(zip([x+1 for x in range(len(test[\"word\"]))],list(zip(test[\"word\"],test[\"head\"],test[\"deprel\"],test[\"postag\"]))))\n",
    "\n",
    "#output:\n",
    "#   {1: ('他', 2, 'SBV', 'r'),\n",
    "#    2: ('撥弄', 0, 'HED', 'v'),\n",
    "#    3: ('她', 5, 'ATT', 'r'),\n",
    "#    4: ('的', 3, 'MT', 'u'),\n",
    "#    5: ('頭髮', 2, 'VOB', 'n'),\n",
    "#    6: ('，', 2, 'MT', 'w'),\n",
    "#    7: ('時而', 8, 'ADV', 'd'),\n",
    "#    8: ('捲動', 2, 'COO', 'v'),\n",
    "#    9: ('，', 8, 'MT', 'w'),\n",
    "#    10: ('時而', 11, 'ADV', 'd'),\n",
    "#    11: ('打成', 2, 'COO', 'v'),\n",
    "#    12: ('一個', 13, 'ATT', 'm'),\n",
    "#    13: ('結', 11, 'VOB', 'n'),\n",
    "#    14: ('。', 11, 'MT', 'w')}"
   ]
  },
  {
   "cell_type": "code",
   "execution_count": 9,
   "metadata": {},
   "outputs": [],
   "source": [
    "def syntax_analyze(string):\n",
    "    ### step1 : create syntax dict from baido result\n",
    "\n",
    "    result=ddp.parse(string)[0]\n",
    "    syntax_dict=dict(zip([x+1 for x in range(len(result[\"word\"]))],list(zip(result[\"word\"],result[\"head\"],result[\"deprel\"],result[\"postag\"]))))\n",
    "\n",
    "    ### step2 : find subject\n",
    "\n",
    "        #find word if head==\"SBV\" and deprel==\"PER\" or \"r\"\n",
    "    s_index_list=[key for key,value in syntax_dict.items() if value[2]==\"SBV\" and value[3] in [\"PER\",\"r\",\"ORG\"]]\n",
    "\n",
    "    ### step3 : find verb, which pointed by subject\n",
    "\n",
    "        #pick verb word and verb word's VV or COO\n",
    "    s_v_dict={}\n",
    "    for s_index in s_index_list:\n",
    "        #get index pointed by subject \n",
    "        v_index=syntax_dict[s_index][1]\n",
    "        v_index_list=[]\n",
    "\n",
    "        #add word to verb list if the pointed index is verb\n",
    "        if syntax_dict[v_index][3]==\"v\":\n",
    "            v_index_list=[v_index]\n",
    "\n",
    "        #add word to verb list if verb have other verb appositive(同位語動詞)\n",
    "        v_index_list=v_index_list+[key for key,value in syntax_dict.items() if value[2] in [\"VV\",\"COO\"] and value[1] == v_index and value[3]==\"v\" ]\n",
    "\n",
    "        # verb_index_list could be zero because subject's head cound be non verb and have no \"VV\" or \"COO\"\n",
    "        if len(v_index_list)>0:\n",
    "            s_v_dict.update({s_index:v_index_list})\n",
    "\n",
    "    ### step4 : find object of each verb\n",
    "\n",
    "    s_v_o_dict={}\n",
    "    for s_index,v_list in s_v_dict.items():\n",
    "        verb_object_list=[]\n",
    "        for verb_index in v_list:\n",
    "            object_index=None\n",
    "\n",
    "            #find any object point to the verb\n",
    "            for syn_index,syn_value in syntax_dict.items():\n",
    "                # \"VOB\" is object, syn_value[1] is points index, syn_value[2] is part of speech\n",
    "                if syn_value[1]==verb_index and syn_value[2]==\"VOB\":\n",
    "                    object_index=syn_index\n",
    "            verb_object_list=verb_object_list+[(verb_index,object_index)]\n",
    "        s_v_o_dict.update({s_index:verb_object_list})\n",
    "\n",
    "    # step5 : convert result index to word\n",
    "    result_text_dict={}\n",
    "    for key,value in s_v_o_dict.items():\n",
    "        key_text=syntax_dict[key][0]\n",
    "        v_o_tuple_list_text=[]\n",
    "        for v_o_tuple in value:\n",
    "            index_v=v_o_tuple[0]\n",
    "            index_o=v_o_tuple[1]\n",
    "            if index_o is not None:\n",
    "                v_o_tuple_text=(syntax_dict[index_v][0],syntax_dict[index_o][0])\n",
    "            else:\n",
    "                v_o_tuple_text=(syntax_dict[index_v][0],\"\")\n",
    "            v_o_tuple_list_text+=[v_o_tuple_text]\n",
    "        result_text_dict.update({key_text:v_o_tuple_list_text})\n",
    "    return result_text_dict\n"
   ]
  },
  {
   "cell_type": "code",
   "execution_count": 10,
   "metadata": {},
   "outputs": [
    {
     "data": {
      "text/plain": [
       "{'他': [('撥弄', '頭髮'), ('捲動', ''), ('打成', '結')]}"
      ]
     },
     "execution_count": 10,
     "metadata": {},
     "output_type": "execute_result"
    }
   ],
   "source": [
    "syntax_analyze(text)"
   ]
  }
 ],
 "metadata": {
  "kernelspec": {
   "display_name": "Python 3",
   "language": "python",
   "name": "python3"
  },
  "language_info": {
   "codemirror_mode": {
    "name": "ipython",
    "version": 3
   },
   "file_extension": ".py",
   "mimetype": "text/x-python",
   "name": "python",
   "nbconvert_exporter": "python",
   "pygments_lexer": "ipython3",
   "version": "3.7.9"
  }
 },
 "nbformat": 4,
 "nbformat_minor": 4
}
